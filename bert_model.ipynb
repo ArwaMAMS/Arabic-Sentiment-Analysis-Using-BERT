{
 "cells": [
  {
   "cell_type": "code",
   "execution_count": 7,
   "id": "3f21d5d2",
   "metadata": {},
   "outputs": [],
   "source": [
    "# import libraries\n",
    "import pandas as pd\n",
    "from ruqiya.ruqiya import clean_text\n",
    "import re\n",
    "import string\n",
    "import nltk\n",
    "import numpy as np\n",
    "import ktrain\n",
    "from ktrain import text\n",
    "import seaborn as sns\n",
    "from sklearn.model_selection import train_test_split\n",
    "from sklearn.feature_extraction.text import CountVectorizer \n",
    "#remove emojies\n",
    "import demoji"
   ]
  },
  {
   "cell_type": "code",
   "execution_count": 8,
   "id": "585407eb",
   "metadata": {},
   "outputs": [
    {
     "data": {
      "text/html": [
       "<div>\n",
       "<style scoped>\n",
       "    .dataframe tbody tr th:only-of-type {\n",
       "        vertical-align: middle;\n",
       "    }\n",
       "\n",
       "    .dataframe tbody tr th {\n",
       "        vertical-align: top;\n",
       "    }\n",
       "\n",
       "    .dataframe thead th {\n",
       "        text-align: right;\n",
       "    }\n",
       "</style>\n",
       "<table border=\"1\" class=\"dataframe\">\n",
       "  <thead>\n",
       "    <tr style=\"text-align: right;\">\n",
       "      <th></th>\n",
       "      <th>Tweet</th>\n",
       "      <th>Lable</th>\n",
       "      <th>Company</th>\n",
       "    </tr>\n",
       "  </thead>\n",
       "  <tbody>\n",
       "    <tr>\n",
       "      <th>0</th>\n",
       "      <td>@CareemCare @lolliklulu الحين اذا العميل اتاخر...</td>\n",
       "      <td>Negative</td>\n",
       "      <td>Careem</td>\n",
       "    </tr>\n",
       "    <tr>\n",
       "      <th>1</th>\n",
       "      <td>@CareemCare اتواصلت معاكم بالتطبيق اناخذ مني م...</td>\n",
       "      <td>Negative</td>\n",
       "      <td>Careem</td>\n",
       "    </tr>\n",
       "    <tr>\n",
       "      <th>2</th>\n",
       "      <td>@gooole99 @CareemCare انا كمان مو شغال مدري اش...</td>\n",
       "      <td>Negative</td>\n",
       "      <td>Careem</td>\n",
       "    </tr>\n",
       "    <tr>\n",
       "      <th>3</th>\n",
       "      <td>@CareemCare @Cz10112 @Linakh32 ترسلون هنا على ...</td>\n",
       "      <td>Negative</td>\n",
       "      <td>Careem</td>\n",
       "    </tr>\n",
       "    <tr>\n",
       "      <th>4</th>\n",
       "      <td>@Li1Ra @HRDF_Care @CareemCare وش السالفه ليه معلق</td>\n",
       "      <td>Negative</td>\n",
       "      <td>Careem</td>\n",
       "    </tr>\n",
       "  </tbody>\n",
       "</table>\n",
       "</div>"
      ],
      "text/plain": [
       "                                               Tweet     Lable Company\n",
       "0  @CareemCare @lolliklulu الحين اذا العميل اتاخر...  Negative  Careem\n",
       "1  @CareemCare اتواصلت معاكم بالتطبيق اناخذ مني م...  Negative  Careem\n",
       "2  @gooole99 @CareemCare انا كمان مو شغال مدري اش...  Negative  Careem\n",
       "3  @CareemCare @Cz10112 @Linakh32 ترسلون هنا على ...  Negative  Careem\n",
       "4  @Li1Ra @HRDF_Care @CareemCare وش السالفه ليه معلق  Negative  Careem"
      ]
     },
     "execution_count": 8,
     "metadata": {},
     "output_type": "execute_result"
    }
   ],
   "source": [
    "#read the dataset\n",
    "delivCOMP =pd.read_excel('delivCOMP_Dataset.xlsx')\n",
    "#Display the first 5 rows of the dataset\n",
    "delivCOMP.head()"
   ]
  },
  {
   "cell_type": "code",
   "execution_count": 9,
   "id": "afbac60e",
   "metadata": {},
   "outputs": [
    {
     "data": {
      "text/html": [
       "<div>\n",
       "<style scoped>\n",
       "    .dataframe tbody tr th:only-of-type {\n",
       "        vertical-align: middle;\n",
       "    }\n",
       "\n",
       "    .dataframe tbody tr th {\n",
       "        vertical-align: top;\n",
       "    }\n",
       "\n",
       "    .dataframe thead th {\n",
       "        text-align: right;\n",
       "    }\n",
       "</style>\n",
       "<table border=\"1\" class=\"dataframe\">\n",
       "  <thead>\n",
       "    <tr style=\"text-align: right;\">\n",
       "      <th></th>\n",
       "      <th>Tweet</th>\n",
       "      <th>Lable</th>\n",
       "      <th>Company</th>\n",
       "    </tr>\n",
       "  </thead>\n",
       "  <tbody>\n",
       "    <tr>\n",
       "      <th>count</th>\n",
       "      <td>6050</td>\n",
       "      <td>6074</td>\n",
       "      <td>6075</td>\n",
       "    </tr>\n",
       "    <tr>\n",
       "      <th>unique</th>\n",
       "      <td>5308</td>\n",
       "      <td>3</td>\n",
       "      <td>9</td>\n",
       "    </tr>\n",
       "    <tr>\n",
       "      <th>top</th>\n",
       "      <td>هنقرستيشن يملك أسوء خدمة عملاء</td>\n",
       "      <td>Negative</td>\n",
       "      <td>HungerStation</td>\n",
       "    </tr>\n",
       "    <tr>\n",
       "      <th>freq</th>\n",
       "      <td>6</td>\n",
       "      <td>4628</td>\n",
       "      <td>1869</td>\n",
       "    </tr>\n",
       "  </tbody>\n",
       "</table>\n",
       "</div>"
      ],
      "text/plain": [
       "                                 Tweet     Lable        Company\n",
       "count                             6050      6074           6075\n",
       "unique                            5308         3              9\n",
       "top     هنقرستيشن يملك أسوء خدمة عملاء  Negative  HungerStation\n",
       "freq                                 6      4628           1869"
      ]
     },
     "execution_count": 9,
     "metadata": {},
     "output_type": "execute_result"
    }
   ],
   "source": [
    "#Describe the dataset\n",
    "delivCOMP.describe()"
   ]
  },
  {
   "cell_type": "code",
   "execution_count": 10,
   "id": "c6923529",
   "metadata": {},
   "outputs": [
    {
     "data": {
      "text/plain": [
       "Negative    4628\n",
       "Neutral      800\n",
       "Positive     646\n",
       "Name: Lable, dtype: int64"
      ]
     },
     "execution_count": 10,
     "metadata": {},
     "output_type": "execute_result"
    }
   ],
   "source": [
    "#count number of Lable of dataset\n",
    "delivCOMP[\"Lable\"].value_counts()"
   ]
  },
  {
   "cell_type": "code",
   "execution_count": 11,
   "id": "ba3182ec",
   "metadata": {},
   "outputs": [
    {
     "data": {
      "text/plain": [
       "HungerStation    1869\n",
       "Careem           1306\n",
       "Jahez            1261\n",
       "Mrsool           1120\n",
       "ToYou             341\n",
       "Shgardi            89\n",
       "Nahdi              57\n",
       "The Chefz          20\n",
       "Ninja              12\n",
       "Name: Company, dtype: int64"
      ]
     },
     "execution_count": 11,
     "metadata": {},
     "output_type": "execute_result"
    }
   ],
   "source": [
    "#count number of company of dataset\n",
    "delivCOMP[\"Company\"].value_counts()"
   ]
  },
  {
   "cell_type": "code",
   "execution_count": 12,
   "id": "ff8dab73",
   "metadata": {},
   "outputs": [
    {
     "data": {
      "text/plain": [
       "(646, 3)"
      ]
     },
     "execution_count": 12,
     "metadata": {},
     "output_type": "execute_result"
    }
   ],
   "source": [
    "#show positive data\n",
    "datasetpos = delivCOMP[delivCOMP.Lable == 'Positive']\n",
    "datasetpos.shape"
   ]
  },
  {
   "cell_type": "code",
   "execution_count": 13,
   "id": "6409fe96",
   "metadata": {},
   "outputs": [
    {
     "data": {
      "text/plain": [
       "(4628, 3)"
      ]
     },
     "execution_count": 13,
     "metadata": {},
     "output_type": "execute_result"
    }
   ],
   "source": [
    "#show negative data\n",
    "datasetneg = delivCOMP[delivCOMP.Lable == 'Negative']\n",
    "datasetneg.shape"
   ]
  },
  {
   "cell_type": "code",
   "execution_count": 14,
   "id": "e528c2e4",
   "metadata": {},
   "outputs": [
    {
     "data": {
      "text/plain": [
       "(800, 3)"
      ]
     },
     "execution_count": 14,
     "metadata": {},
     "output_type": "execute_result"
    }
   ],
   "source": [
    "#show neutral data\n",
    "datasetneu = delivCOMP[delivCOMP.Lable == 'Neutral']\n",
    "datasetneu.shape"
   ]
  },
  {
   "cell_type": "code",
   "execution_count": 15,
   "id": "334d54e7",
   "metadata": {},
   "outputs": [
    {
     "data": {
      "text/plain": [
       "(433, 3)"
      ]
     },
     "execution_count": 15,
     "metadata": {},
     "output_type": "execute_result"
    }
   ],
   "source": [
    "#sample of positive data\n",
    "datasetpos = datasetpos.sample(frac=0.67,random_state=200)\n",
    "datasetpos.shape"
   ]
  },
  {
   "cell_type": "code",
   "execution_count": 16,
   "id": "e535416a",
   "metadata": {},
   "outputs": [
    {
     "data": {
      "text/html": [
       "<div>\n",
       "<style scoped>\n",
       "    .dataframe tbody tr th:only-of-type {\n",
       "        vertical-align: middle;\n",
       "    }\n",
       "\n",
       "    .dataframe tbody tr th {\n",
       "        vertical-align: top;\n",
       "    }\n",
       "\n",
       "    .dataframe thead th {\n",
       "        text-align: right;\n",
       "    }\n",
       "</style>\n",
       "<table border=\"1\" class=\"dataframe\">\n",
       "  <thead>\n",
       "    <tr style=\"text-align: right;\">\n",
       "      <th></th>\n",
       "      <th>Tweet</th>\n",
       "      <th>Lable</th>\n",
       "      <th>Company</th>\n",
       "    </tr>\n",
       "  </thead>\n",
       "  <tbody>\n",
       "    <tr>\n",
       "      <th>4326</th>\n",
       "      <td>@ShgardiKSA أفضل تطبيق 🖤💛</td>\n",
       "      <td>Positive</td>\n",
       "      <td>Shgardi</td>\n",
       "    </tr>\n",
       "    <tr>\n",
       "      <th>3417</th>\n",
       "      <td>@HungerStation شكراً هنقرستيشن على سرعة الاستج...</td>\n",
       "      <td>Positive</td>\n",
       "      <td>HungerStation</td>\n",
       "    </tr>\n",
       "    <tr>\n",
       "      <th>2357</th>\n",
       "      <td>@HungerStation @badgalyvonna تكفون يا هنقرستيش...</td>\n",
       "      <td>Positive</td>\n",
       "      <td>HungerStation</td>\n",
       "    </tr>\n",
       "    <tr>\n",
       "      <th>4336</th>\n",
       "      <td>@ShgardiKSA اسرع شي ف العالم سريع مرره</td>\n",
       "      <td>Positive</td>\n",
       "      <td>Shgardi</td>\n",
       "    </tr>\n",
       "    <tr>\n",
       "      <th>4515</th>\n",
       "      <td>@fhdzz_ هنقر افضل ع الاقل ترجع فلوسي لو في غلط...</td>\n",
       "      <td>Positive</td>\n",
       "      <td>HungerStation</td>\n",
       "    </tr>\n",
       "  </tbody>\n",
       "</table>\n",
       "</div>"
      ],
      "text/plain": [
       "                                                  Tweet     Lable  \\\n",
       "4326                          @ShgardiKSA أفضل تطبيق 🖤💛  Positive   \n",
       "3417  @HungerStation شكراً هنقرستيشن على سرعة الاستج...  Positive   \n",
       "2357  @HungerStation @badgalyvonna تكفون يا هنقرستيش...  Positive   \n",
       "4336             @ShgardiKSA اسرع شي ف العالم سريع مرره  Positive   \n",
       "4515  @fhdzz_ هنقر افضل ع الاقل ترجع فلوسي لو في غلط...  Positive   \n",
       "\n",
       "            Company  \n",
       "4326        Shgardi  \n",
       "3417  HungerStation  \n",
       "2357  HungerStation  \n",
       "4336        Shgardi  \n",
       "4515  HungerStation  "
      ]
     },
     "execution_count": 16,
     "metadata": {},
     "output_type": "execute_result"
    }
   ],
   "source": [
    "#connect all above \n",
    "delivCOMP = pd.concat([datasetpos, datasetneg, datasetneu], axis=0)\n",
    "delivCOMP.head()"
   ]
  },
  {
   "cell_type": "code",
   "execution_count": 17,
   "id": "6d5d32ce",
   "metadata": {},
   "outputs": [
    {
     "data": {
      "text/plain": [
       "Negative    4628\n",
       "Neutral      800\n",
       "Positive     433\n",
       "Name: Lable, dtype: int64"
      ]
     },
     "execution_count": 17,
     "metadata": {},
     "output_type": "execute_result"
    }
   ],
   "source": [
    "#counts each lable\n",
    "delivCOMP[\"Lable\"].value_counts()"
   ]
  },
  {
   "cell_type": "code",
   "execution_count": 18,
   "id": "108ab068",
   "metadata": {},
   "outputs": [
    {
     "data": {
      "text/plain": [
       "Tweet       True\n",
       "Lable      False\n",
       "Company    False\n",
       "dtype: bool"
      ]
     },
     "execution_count": 18,
     "metadata": {},
     "output_type": "execute_result"
    }
   ],
   "source": [
    "#check if there is any null value in dataset\n",
    "delivCOMP.isnull().any(axis=0)"
   ]
  },
  {
   "cell_type": "code",
   "execution_count": 19,
   "id": "1bd338c8",
   "metadata": {},
   "outputs": [],
   "source": [
    "#Pre-Processing \n",
    "\n",
    "#clean and Normalize the text\n",
    "def cleanTxt(text):\n",
    "    text = re.sub(r'[A-Za-z0-9٠-٩]+', '', text) #Remove english letters,english NO.,Arabic NO. \n",
    "    text = demoji.replace(text, \"\")  #Remove Emojis\n",
    "    return text\n",
    "#Remove repeating character,punctuations,diacritics,stop words,Normalize Arabic\n",
    "#for clean_text function\n",
    "delivCOMP['Tweet'] = delivCOMP['Tweet'].astype(str).apply(clean_text)\n",
    "#for cleanTxt function\n",
    "delivCOMP['Tweet'] = delivCOMP['Tweet'].astype(str).apply(cleanTxt)\n",
    "\n",
    "#Remove duplication tweets\n",
    "delivCOMP.drop_duplicates(subset = 'Tweet', inplace = True)"
   ]
  },
  {
   "cell_type": "code",
   "execution_count": 20,
   "id": "806dae07",
   "metadata": {},
   "outputs": [
    {
     "data": {
      "text/html": [
       "<div>\n",
       "<style scoped>\n",
       "    .dataframe tbody tr th:only-of-type {\n",
       "        vertical-align: middle;\n",
       "    }\n",
       "\n",
       "    .dataframe tbody tr th {\n",
       "        vertical-align: top;\n",
       "    }\n",
       "\n",
       "    .dataframe thead th {\n",
       "        text-align: right;\n",
       "    }\n",
       "</style>\n",
       "<table border=\"1\" class=\"dataframe\">\n",
       "  <thead>\n",
       "    <tr style=\"text-align: right;\">\n",
       "      <th></th>\n",
       "      <th>Tweet</th>\n",
       "      <th>Lable</th>\n",
       "      <th>Company</th>\n",
       "    </tr>\n",
       "  </thead>\n",
       "  <tbody>\n",
       "    <tr>\n",
       "      <th>4326</th>\n",
       "      <td>افضل تطبيق</td>\n",
       "      <td>Positive</td>\n",
       "      <td>Shgardi</td>\n",
       "    </tr>\n",
       "    <tr>\n",
       "      <th>3417</th>\n",
       "      <td>شكرا هنقرستيشن سرعه الاستجابه والتعويض سب  هن...</td>\n",
       "      <td>Positive</td>\n",
       "      <td>HungerStation</td>\n",
       "    </tr>\n",
       "    <tr>\n",
       "      <th>2357</th>\n",
       "      <td>تكفون هنقرستيشن اسبوعنا  كرف اسعدونا اله يسع...</td>\n",
       "      <td>Positive</td>\n",
       "      <td>HungerStation</td>\n",
       "    </tr>\n",
       "    <tr>\n",
       "      <th>4336</th>\n",
       "      <td>اسرع شي العالم سريع</td>\n",
       "      <td>Positive</td>\n",
       "      <td>Shgardi</td>\n",
       "    </tr>\n",
       "    <tr>\n",
       "      <th>4515</th>\n",
       "      <td>هنقر افضل الاقل ترجع فلوسي  غلط بغير الطلب جا...</td>\n",
       "      <td>Positive</td>\n",
       "      <td>HungerStation</td>\n",
       "    </tr>\n",
       "    <tr>\n",
       "      <th>...</th>\n",
       "      <td>...</td>\n",
       "      <td>...</td>\n",
       "      <td>...</td>\n",
       "    </tr>\n",
       "    <tr>\n",
       "      <th>5952</th>\n",
       "      <td>انتهي العرض باقي</td>\n",
       "      <td>Neutral</td>\n",
       "      <td>Jahez</td>\n",
       "    </tr>\n",
       "    <tr>\n",
       "      <th>5953</th>\n",
       "      <td>استخدم العرض</td>\n",
       "      <td>Neutral</td>\n",
       "      <td>Jahez</td>\n",
       "    </tr>\n",
       "    <tr>\n",
       "      <th>5994</th>\n",
       "      <td>الخير ليه اطلب يطلع</td>\n",
       "      <td>Neutral</td>\n",
       "      <td>Jahez</td>\n",
       "    </tr>\n",
       "    <tr>\n",
       "      <th>6014</th>\n",
       "      <td>استفسار\\n مكن اضافه حجب المطاعم التطبيق مطاعم...</td>\n",
       "      <td>Neutral</td>\n",
       "      <td>Jahez</td>\n",
       "    </tr>\n",
       "    <tr>\n",
       "      <th>6036</th>\n",
       "      <td>استفسار مهم اقدر اطلب  محل بوقت  التطبيق</td>\n",
       "      <td>Neutral</td>\n",
       "      <td>Jahez</td>\n",
       "    </tr>\n",
       "  </tbody>\n",
       "</table>\n",
       "<p>4984 rows × 3 columns</p>\n",
       "</div>"
      ],
      "text/plain": [
       "                                                  Tweet     Lable  \\\n",
       "4326                                        افضل تطبيق   Positive   \n",
       "3417   شكرا هنقرستيشن سرعه الاستجابه والتعويض سب  هن...  Positive   \n",
       "2357    تكفون هنقرستيشن اسبوعنا  كرف اسعدونا اله يسع...  Positive   \n",
       "4336                               اسرع شي العالم سريع   Positive   \n",
       "4515   هنقر افضل الاقل ترجع فلوسي  غلط بغير الطلب جا...  Positive   \n",
       "...                                                 ...       ...   \n",
       "5952                                   انتهي العرض باقي   Neutral   \n",
       "5953                                      استخدم العرض    Neutral   \n",
       "5994                              الخير ليه اطلب يطلع     Neutral   \n",
       "6014   استفسار\\n مكن اضافه حجب المطاعم التطبيق مطاعم...   Neutral   \n",
       "6036           استفسار مهم اقدر اطلب  محل بوقت  التطبيق   Neutral   \n",
       "\n",
       "            Company  \n",
       "4326        Shgardi  \n",
       "3417  HungerStation  \n",
       "2357  HungerStation  \n",
       "4336        Shgardi  \n",
       "4515  HungerStation  \n",
       "...             ...  \n",
       "5952          Jahez  \n",
       "5953          Jahez  \n",
       "5994          Jahez  \n",
       "6014          Jahez  \n",
       "6036          Jahez  \n",
       "\n",
       "[4984 rows x 3 columns]"
      ]
     },
     "execution_count": 20,
     "metadata": {},
     "output_type": "execute_result"
    }
   ],
   "source": [
    "delivCOMP"
   ]
  },
  {
   "cell_type": "code",
   "execution_count": 21,
   "id": "96dfb9eb",
   "metadata": {},
   "outputs": [
    {
     "data": {
      "text/plain": [
       "4013     وربي مرا قهروني طلبت فطور مرسول ومرا جوعانه ض...\n",
       "650           فرق  \\nوالرحله  التاريخ والتوقيت ونفس الوجه\n",
       "4755     الطلب تاخر المندوب ضيع ابغي استرجع المبلغ واك...\n",
       "561      يتم دفع المستحق  يتم التاجيل الرجاء المساعده ...\n",
       "3711                    الغيت الطلب ورجعت طلبت ومافي يقبل\n",
       "5725     حسبي اله عليكم ونعم الوكيل  انكم حرامين مشوار...\n",
       "4452     طلبته رصيدي البنكي وطلبتوا رقم الايبان وزودتك...\n",
       "3701     اسف تعرضت لعمليه نصب  مرسول  الطلب مطعم وتم س...\n",
       "1703                      مهزله صاير مندوبكم  يدور الرياض\n",
       "1721                                         يتم التواصل \n",
       "3073     السلام عليكم  اطلب شي ويوصلني شي  طلبي طلب قه...\n",
       "3729     عفوا الحمدله جاء مندوب وقبل الطلب  كثير الاحي...\n",
       "4651                    مافيه خصم طلبت الدفع مالقيت الخصم\n",
       "622         خانه مطاعم ماتظهر بالتطبيق العلم موجوده سابقا\n",
       "682                            اتوقع الشغله تطفيش الكباتن\n",
       "1758    تاخر الطلب طالبه ونص  ماوصل واكلمكم الخاص محد يرد\n",
       "3934     يخوي الزبون دفع قيمه الطلب وصلت الطلب ولاجاتن...\n",
       "5499     اتوقع اخر اطلب منكم ياخي طلبي وصل كمان دافعه ...\n",
       "2442                          ليش توصيل هنقرستيشن بعشرين \n",
       "5129     ارسلت المندوب مدرسه بنتي يستلم الكتب ابوها با...\n",
       "Name: Tweet, dtype: object"
      ]
     },
     "execution_count": 21,
     "metadata": {},
     "output_type": "execute_result"
    }
   ],
   "source": [
    "# print sample of dataset \n",
    "delivCOMP[\"Tweet\"].sample(20)"
   ]
  },
  {
   "cell_type": "code",
   "execution_count": 22,
   "id": "5875655a",
   "metadata": {},
   "outputs": [
    {
     "data": {
      "text/plain": [
       "(3981, 3)"
      ]
     },
     "execution_count": 22,
     "metadata": {},
     "output_type": "execute_result"
    }
   ],
   "source": [
    "#split the dataset to train - test\n",
    "msk = np.random.rand(len(delivCOMP)) < 0.8\n",
    "df_train = delivCOMP[msk]\n",
    "df_test = delivCOMP[~msk]\n",
    "#print train shape\n",
    "df_train.shape"
   ]
  },
  {
   "cell_type": "code",
   "execution_count": 23,
   "id": "8c1d6f34",
   "metadata": {},
   "outputs": [
    {
     "data": {
      "text/plain": [
       "(1003, 3)"
      ]
     },
     "execution_count": 23,
     "metadata": {},
     "output_type": "execute_result"
    }
   ],
   "source": [
    "#print test shape\n",
    "df_test.shape"
   ]
  },
  {
   "cell_type": "code",
   "execution_count": 24,
   "id": "4b5d5903",
   "metadata": {},
   "outputs": [
    {
     "data": {
      "text/plain": [
       "Negative    786\n",
       "Neutral     145\n",
       "Positive     72\n",
       "Name: Lable, dtype: int64"
      ]
     },
     "execution_count": 24,
     "metadata": {},
     "output_type": "execute_result"
    }
   ],
   "source": [
    "#counts each lable for test dataset\n",
    "df_test.Lable.value_counts()"
   ]
  },
  {
   "cell_type": "code",
   "execution_count": 25,
   "id": "58cc4074",
   "metadata": {},
   "outputs": [
    {
     "data": {
      "text/plain": [
       "Negative    3119\n",
       "Neutral      537\n",
       "Positive     325\n",
       "Name: Lable, dtype: int64"
      ]
     },
     "execution_count": 25,
     "metadata": {},
     "output_type": "execute_result"
    }
   ],
   "source": [
    "#counts each lable for test dataset\n",
    "df_train.Lable.value_counts()"
   ]
  },
  {
   "cell_type": "code",
   "execution_count": 26,
   "id": "afa60210",
   "metadata": {},
   "outputs": [],
   "source": [
    "# set hyperparameters # used to controll the learning process\n",
    "maxlen = 64 #يعتمد بشكل عام على adress space \n",
    "batch_size = 16\n",
    "lr = 2e-5 #learning rate\n",
    "epochs = 3 #training the neural network with all the training data for one cycle"
   ]
  },
  {
   "cell_type": "code",
   "execution_count": 27,
   "id": "7f9ab60d",
   "metadata": {},
   "outputs": [],
   "source": [
    "#arabert modelPre-trained Transformers for the Arabic text\n",
    "MODEL_NAME = 'aubmindlab/bert-base-arabertv01'\n",
    "t = text.Transformer(MODEL_NAME, maxlen=maxlen)"
   ]
  },
  {
   "cell_type": "code",
   "execution_count": 28,
   "id": "a2e1eead",
   "metadata": {},
   "outputs": [
    {
     "name": "stdout",
     "output_type": "stream",
     "text": [
      "preprocessing train...\n",
      "language: ar\n",
      "train sequence lengths:\n",
      "\tmean : 12\n",
      "\t95percentile : 27\n",
      "\t99percentile : 35\n"
     ]
    },
    {
     "data": {
      "text/html": [
       "\n",
       "<style>\n",
       "    /* Turns off some styling */\n",
       "    progress {\n",
       "        /* gets rid of default border in Firefox and Opera. */\n",
       "        border: none;\n",
       "        /* Needs to be in here for Safari polyfill so background images work as expected. */\n",
       "        background-size: auto;\n",
       "    }\n",
       "    progress:not([value]), progress:not([value])::-webkit-progress-bar {\n",
       "        background: repeating-linear-gradient(45deg, #7e7e7e, #7e7e7e 10px, #5c5c5c 10px, #5c5c5c 20px);\n",
       "    }\n",
       "    .progress-bar-interrupted, .progress-bar-interrupted::-webkit-progress-bar {\n",
       "        background: #F44336;\n",
       "    }\n",
       "</style>\n"
      ],
      "text/plain": [
       "<IPython.core.display.HTML object>"
      ]
     },
     "metadata": {},
     "output_type": "display_data"
    },
    {
     "data": {
      "text/html": [],
      "text/plain": [
       "<IPython.core.display.HTML object>"
      ]
     },
     "metadata": {},
     "output_type": "display_data"
    },
    {
     "name": "stdout",
     "output_type": "stream",
     "text": [
      "Is Multi-Label? False\n",
      "preprocessing test...\n",
      "language: ar\n",
      "test sequence lengths:\n",
      "\tmean : 12\n",
      "\t95percentile : 25\n",
      "\t99percentile : 34\n"
     ]
    },
    {
     "data": {
      "text/html": [
       "\n",
       "<style>\n",
       "    /* Turns off some styling */\n",
       "    progress {\n",
       "        /* gets rid of default border in Firefox and Opera. */\n",
       "        border: none;\n",
       "        /* Needs to be in here for Safari polyfill so background images work as expected. */\n",
       "        background-size: auto;\n",
       "    }\n",
       "    progress:not([value]), progress:not([value])::-webkit-progress-bar {\n",
       "        background: repeating-linear-gradient(45deg, #7e7e7e, #7e7e7e 10px, #5c5c5c 10px, #5c5c5c 20px);\n",
       "    }\n",
       "    .progress-bar-interrupted, .progress-bar-interrupted::-webkit-progress-bar {\n",
       "        background: #F44336;\n",
       "    }\n",
       "</style>\n"
      ],
      "text/plain": [
       "<IPython.core.display.HTML object>"
      ]
     },
     "metadata": {},
     "output_type": "display_data"
    },
    {
     "data": {
      "text/html": [],
      "text/plain": [
       "<IPython.core.display.HTML object>"
      ]
     },
     "metadata": {},
     "output_type": "display_data"
    }
   ],
   "source": [
    "trn = t.preprocess_train(df_train.Tweet.values, df_train.Lable.values)\n",
    "tst = t.preprocess_test(df_test.Tweet.values, df_test.Lable.values)"
   ]
  },
  {
   "cell_type": "code",
   "execution_count": 29,
   "id": "1bdd283a",
   "metadata": {},
   "outputs": [],
   "source": [
    "model = t.get_classifier()\n",
    "learner = ktrain.get_learner(model, train_data=trn, val_data=tst, batch_size=batch_size)"
   ]
  },
  {
   "cell_type": "code",
   "execution_count": 30,
   "id": "f36dc435",
   "metadata": {},
   "outputs": [
    {
     "name": "stdout",
     "output_type": "stream",
     "text": [
      "\n",
      "\n",
      "begin training using onecycle policy with max lr of 2e-05...\n",
      "Epoch 1/3\n",
      "249/249 [==============================] - 1691s 7s/step - loss: 0.5974 - accuracy: 0.7674 - val_loss: 0.4502 - val_accuracy: 0.8395\n",
      "Epoch 2/3\n",
      "249/249 [==============================] - 1569s 6s/step - loss: 0.3904 - accuracy: 0.8671 - val_loss: 0.3834 - val_accuracy: 0.8654\n",
      "Epoch 3/3\n",
      "249/249 [==============================] - 1483s 6s/step - loss: 0.2349 - accuracy: 0.9246 - val_loss: 0.3899 - val_accuracy: 0.8714\n"
     ]
    }
   ],
   "source": [
    "#training data\n",
    "history = learner.fit_onecycle(lr, epochs)"
   ]
  },
  {
   "cell_type": "code",
   "execution_count": 31,
   "id": "b09d8aba",
   "metadata": {},
   "outputs": [
    {
     "name": "stdout",
     "output_type": "stream",
     "text": [
      "32/32 [==============================] - 96s 3s/step\n",
      "              precision    recall  f1-score   support\n",
      "\n",
      "           0       0.90      0.96      0.93       786\n",
      "           1       0.69      0.47      0.56       145\n",
      "           2       0.79      0.76      0.77        72\n",
      "\n",
      "    accuracy                           0.87      1003\n",
      "   macro avg       0.79      0.73      0.75      1003\n",
      "weighted avg       0.86      0.87      0.86      1003\n",
      "\n"
     ]
    },
    {
     "data": {
      "text/plain": [
       "array([[751,  28,   7],\n",
       "       [ 69,  68,   8],\n",
       "       [ 14,   3,  55]], dtype=int64)"
      ]
     },
     "execution_count": 31,
     "metadata": {},
     "output_type": "execute_result"
    }
   ],
   "source": [
    "#classification report for test data\n",
    "learner.validate(val_data=tst)"
   ]
  },
  {
   "cell_type": "code",
   "execution_count": 32,
   "id": "2d2a2ef6",
   "metadata": {},
   "outputs": [],
   "source": [
    "p = ktrain.get_predictor(learner.model, t)"
   ]
  },
  {
   "cell_type": "code",
   "execution_count": 33,
   "id": "62c8d81d",
   "metadata": {},
   "outputs": [
    {
     "name": "stdout",
     "output_type": "stream",
     "text": [
      "1/1 [==============================] - 0s 115ms/step\n"
     ]
    },
    {
     "data": {
      "text/plain": [
       "'Positive'"
      ]
     },
     "execution_count": 33,
     "metadata": {},
     "output_type": "execute_result"
    }
   ],
   "source": [
    "p.predict(\"هنقرستيشن افضل تطبيق توصيل\")"
   ]
  },
  {
   "cell_type": "code",
   "execution_count": 34,
   "id": "bfa9fb83",
   "metadata": {},
   "outputs": [
    {
     "name": "stdout",
     "output_type": "stream",
     "text": [
      "1/1 [==============================] - 0s 98ms/step\n"
     ]
    },
    {
     "data": {
      "text/plain": [
       "'Negative'"
      ]
     },
     "execution_count": 34,
     "metadata": {},
     "output_type": "execute_result"
    }
   ],
   "source": [
    "p.predict(\"مرسول اسوأ تطبيق توصيل\")"
   ]
  },
  {
   "cell_type": "code",
   "execution_count": 35,
   "id": "284859c9",
   "metadata": {},
   "outputs": [
    {
     "name": "stdout",
     "output_type": "stream",
     "text": [
      "1/1 [==============================] - 0s 96ms/step\n"
     ]
    },
    {
     "data": {
      "text/plain": [
       "'Negative'"
      ]
     },
     "execution_count": 35,
     "metadata": {},
     "output_type": "execute_result"
    }
   ],
   "source": [
    "p.predict(\"جاهز رجعوا فلوسي\")"
   ]
  },
  {
   "cell_type": "code",
   "execution_count": 36,
   "id": "ee46f7ac",
   "metadata": {},
   "outputs": [
    {
     "name": "stdout",
     "output_type": "stream",
     "text": [
      "1/1 [==============================] - 0s 94ms/step\n"
     ]
    },
    {
     "data": {
      "text/plain": [
       "'Positive'"
      ]
     },
     "execution_count": 36,
     "metadata": {},
     "output_type": "execute_result"
    }
   ],
   "source": [
    "p.predict(\"شكرا لكم\")"
   ]
  },
  {
   "cell_type": "code",
   "execution_count": 37,
   "id": "0eceb4ed",
   "metadata": {},
   "outputs": [
    {
     "name": "stdout",
     "output_type": "stream",
     "text": [
      "1/1 [==============================] - 0s 103ms/step\n"
     ]
    },
    {
     "data": {
      "text/plain": [
       "'Negative'"
      ]
     },
     "execution_count": 37,
     "metadata": {},
     "output_type": "execute_result"
    }
   ],
   "source": [
    "p.predict(\"هنقرستيشن حرامية\")"
   ]
  },
  {
   "cell_type": "code",
   "execution_count": 38,
   "id": "723944a1",
   "metadata": {},
   "outputs": [
    {
     "name": "stdout",
     "output_type": "stream",
     "text": [
      "1/1 [==============================] - 0s 104ms/step\n"
     ]
    },
    {
     "data": {
      "text/plain": [
       "'Neutral'"
      ]
     },
     "execution_count": 38,
     "metadata": {},
     "output_type": "execute_result"
    }
   ],
   "source": [
    "p.predict(\"ردوا على الخاص\")"
   ]
  },
  {
   "cell_type": "code",
   "execution_count": 39,
   "id": "cd812469",
   "metadata": {},
   "outputs": [
    {
     "name": "stdout",
     "output_type": "stream",
     "text": [
      "1/1 [==============================] - 0s 100ms/step\n"
     ]
    },
    {
     "data": {
      "text/plain": [
       "'Negative'"
      ]
     },
     "execution_count": 39,
     "metadata": {},
     "output_type": "execute_result"
    }
   ],
   "source": [
    "p.predict(\"المندوب تأخر \")"
   ]
  },
  {
   "cell_type": "code",
   "execution_count": 40,
   "id": "c6e42244",
   "metadata": {},
   "outputs": [
    {
     "name": "stdout",
     "output_type": "stream",
     "text": [
      "1/1 [==============================] - 0s 93ms/step\n"
     ]
    },
    {
     "data": {
      "text/plain": [
       "'Positive'"
      ]
     },
     "execution_count": 40,
     "metadata": {},
     "output_type": "execute_result"
    }
   ],
   "source": [
    "p.predict(\"رهيب\")"
   ]
  },
  {
   "cell_type": "code",
   "execution_count": 41,
   "id": "1a6b5b26",
   "metadata": {},
   "outputs": [
    {
     "name": "stdout",
     "output_type": "stream",
     "text": [
      "1/1 [==============================] - 0s 95ms/step\n"
     ]
    },
    {
     "data": {
      "text/plain": [
       "'Neutral'"
      ]
     },
     "execution_count": 41,
     "metadata": {},
     "output_type": "execute_result"
    }
   ],
   "source": [
    "p.predict(\"ممكن رابط تحميل برنامج جاهز ؟\")"
   ]
  },
  {
   "cell_type": "code",
   "execution_count": 42,
   "id": "af9adba2",
   "metadata": {},
   "outputs": [],
   "source": [
    "ar=ktrain.load_predictor"
   ]
  },
  {
   "cell_type": "code",
   "execution_count": 43,
   "id": "5456a6e9",
   "metadata": {},
   "outputs": [],
   "source": [
    "p.save('ar-bert-model-datasetmarge')"
   ]
  },
  {
   "cell_type": "code",
   "execution_count": 44,
   "id": "c859b4cd",
   "metadata": {},
   "outputs": [],
   "source": [
    "from tkinter import *"
   ]
  },
  {
   "cell_type": "code",
   "execution_count": null,
   "id": "2884b675",
   "metadata": {},
   "outputs": [],
   "source": [
    "#import all methods and classes from the tkinter\n",
    "import tkinter as tk\n",
    "\n",
    "#Create a GUI window\n",
    "root= tk.Tk()\n",
    "#set the name of tkinter GUI window\n",
    "root.title('Arabic Sentiment Analyzer')\n",
    "\n",
    "canvas1 = tk.Canvas(root, width=400, height=300, relief='raised')\n",
    "canvas1.pack()\n",
    "\n",
    "\n",
    "label1 = tk.Label(root, text='Arabic Sentiment Analyzer')\n",
    "label1.config(font=('helvetica', 14))\n",
    "canvas1.create_window(200, 25, window=label1)\n",
    "#create a label : Enter a Tweet \n",
    "label2 = tk.Label(root, text='Enter a Tweet :')\n",
    "label2.config(font=('helvetica', 10))\n",
    "canvas1.create_window(200, 100, window=label2)\n",
    "\n",
    "entry1 = tk.Entry(root,width=50) \n",
    "canvas1.create_window(200, 140, window=entry1)\n",
    "\n",
    "# function to Predict sentiments\n",
    "def get_pre():\n",
    "    # get a whole input content from text box\n",
    "    p1 = entry1.get()\n",
    "    \n",
    "    label3 = tk.Label(root, text='The Tweet is :', font=('helvetica', 10))\n",
    "    canvas1.create_window(200, 210, window=label3)\n",
    "    \n",
    "    label4 = tk.Label(root, text=p.predict(p1), font=('helvetica', 10, 'bold'))\n",
    "    canvas1.create_window(200, 230, window=label4)\n",
    "#create a Predict Button , when user press the button, the command or function affiliated to that button is executed    \n",
    "button1 = tk.Button(text='Predict', command=get_pre, bg='#002179', fg='white', font=('helvetica', 9, 'bold'))\n",
    "canvas1.create_window(180, 180, window=button1)\n",
    "#create a Clear Button , when user press the button, the command or function will deleting the content from the entry box\n",
    "button2=tk.Button(text='Clear',command=lambda:entry1.delete(0,'end'),bg='#002179', fg='white', font=('helvetica', 9, 'bold'))\n",
    "canvas1.create_window(235, 180, window=button2)\n",
    "\n",
    "#start the GUI\n",
    "root.mainloop()"
   ]
  }
 ],
 "metadata": {
  "kernelspec": {
   "display_name": "Python 3 (ipykernel)",
   "language": "python",
   "name": "python3"
  },
  "language_info": {
   "codemirror_mode": {
    "name": "ipython",
    "version": 3
   },
   "file_extension": ".py",
   "mimetype": "text/x-python",
   "name": "python",
   "nbconvert_exporter": "python",
   "pygments_lexer": "ipython3",
   "version": "3.9.7"
  }
 },
 "nbformat": 4,
 "nbformat_minor": 5
}
